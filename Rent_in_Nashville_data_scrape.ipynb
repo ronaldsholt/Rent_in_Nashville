{
 "cells": [
  {
   "cell_type": "code",
   "execution_count": 1,
   "metadata": {},
   "outputs": [
    {
     "data": {
      "text/plain": [
       "u'/Users/ronaldholt/Git/Rent_in_Nashville'"
      ]
     },
     "execution_count": 1,
     "metadata": {},
     "output_type": "execute_result"
    }
   ],
   "source": [
    "%pwd"
   ]
  },
  {
   "cell_type": "code",
   "execution_count": 40,
   "metadata": {
    "collapsed": true
   },
   "outputs": [],
   "source": [
    "from bs4 import BeautifulSoup \n",
    "import urllib\n",
    "import pandas as pd\n",
    "from selenium import webdriver\n",
    "from selenium.webdriver.support.ui import Select"
   ]
  },
  {
   "cell_type": "code",
   "execution_count": 30,
   "metadata": {
    "collapsed": true
   },
   "outputs": [],
   "source": [
    "base_url = \"https://elementmusicrow.com/floor-plans/\""
   ]
  },
  {
   "cell_type": "code",
   "execution_count": 331,
   "metadata": {},
   "outputs": [],
   "source": [
    "driver = webdriver.Chrome('/Users/ronaldholt/Downloads/chromedriver')\n",
    "driver.get(base_url)\n",
    "\n",
    "#close_login = driver.find_element_by_class_name(\"input-container\")\n",
    "select = Select(driver.find_element_by_id('type'))\n",
    "select.select_by_value('Studio')"
   ]
  },
  {
   "cell_type": "code",
   "execution_count": 332,
   "metadata": {},
   "outputs": [],
   "source": [
    "## the button to click on \"Search\" \n",
    "click_search = driver.find_element_by_class_name(\"button\")\n",
    "click_search.click()"
   ]
  },
  {
   "cell_type": "code",
   "execution_count": 333,
   "metadata": {},
   "outputs": [],
   "source": [
    "html = driver.page_source"
   ]
  },
  {
   "cell_type": "code",
   "execution_count": 334,
   "metadata": {},
   "outputs": [],
   "source": [
    "soup = BeautifulSoup(html, 'html.parser')"
   ]
  },
  {
   "cell_type": "code",
   "execution_count": 311,
   "metadata": {},
   "outputs": [],
   "source": [
    "#print soup"
   ]
  },
  {
   "cell_type": "code",
   "execution_count": 335,
   "metadata": {},
   "outputs": [
    {
     "name": "stdout",
     "output_type": "stream",
     "text": [
      "0804Studio - 579 Sq FtLevel 08$1435/monthAvailable Now\n",
      "1122Studio - 665 Sq FtLevel 11$1444/monthAvailable Now\n",
      "1804Studio - 564 Sq FtLevel 18$1639/monthAvailable Now\n",
      "1822Studio - 665 Sq FtLevel 18$1578/monthAvailable \n"
     ]
    }
   ],
   "source": [
    "#Found location in JS for data...\n",
    "contents = soup.find_all('div', {'class' : 'unit-floating-title'})\n",
    "for i in contents:\n",
    "    print i.text"
   ]
  },
  {
   "cell_type": "code",
   "execution_count": 336,
   "metadata": {},
   "outputs": [
    {
     "name": "stdout",
     "output_type": "stream",
     "text": [
      "[u'0804', u'', u'-', u'579', u'Sq', u'FtLevel', u'08', u'1435', u'onthAvailable', u'Now']\n",
      "[u'1122', u'', u'-', u'665', u'Sq', u'FtLevel', u'11', u'1444', u'onthAvailable', u'Now']\n",
      "[u'1804', u'', u'-', u'564', u'Sq', u'FtLevel', u'18', u'1639', u'onthAvailable', u'Now']\n",
      "[u'1822', u'', u'-', u'665', u'Sq', u'FtLevel', u'18', u'1578', u'onthAvailable', u'']\n"
     ]
    }
   ],
   "source": [
    "import re\n",
    "\n",
    "df = []\n",
    "\n",
    "for i in soup.find_all('div', {'class' : 'unit-floating-title'}):\n",
    "    a = re.split(' |Studio|\\$|/m|', i.text)\n",
    "    #b = re.split('Studio|\\$|/m|,\" \"', i.text)\n",
    "    print a\n",
    "    unit = a[0]\n",
    "    sqft = a[3]\n",
    "    price = a[7]\n",
    "    level = a[6]\n",
    "    name = \"Element\"\n",
    "    \n",
    "    df.append([name, unit, sqft, price, level])\n",
    "    \n",
    "df = pd.DataFrame(df, columns=['name','unit', 'sqft', 'price', 'level' ])  \n"
   ]
  },
  {
   "cell_type": "code",
   "execution_count": 337,
   "metadata": {},
   "outputs": [
    {
     "data": {
      "text/html": [
       "<div>\n",
       "<style>\n",
       "    .dataframe thead tr:only-child th {\n",
       "        text-align: right;\n",
       "    }\n",
       "\n",
       "    .dataframe thead th {\n",
       "        text-align: left;\n",
       "    }\n",
       "\n",
       "    .dataframe tbody tr th {\n",
       "        vertical-align: top;\n",
       "    }\n",
       "</style>\n",
       "<table border=\"1\" class=\"dataframe\">\n",
       "  <thead>\n",
       "    <tr style=\"text-align: right;\">\n",
       "      <th></th>\n",
       "      <th>name</th>\n",
       "      <th>unit</th>\n",
       "      <th>sqft</th>\n",
       "      <th>price</th>\n",
       "      <th>level</th>\n",
       "    </tr>\n",
       "  </thead>\n",
       "  <tbody>\n",
       "    <tr>\n",
       "      <th>0</th>\n",
       "      <td>Element</td>\n",
       "      <td>0804</td>\n",
       "      <td>579</td>\n",
       "      <td>1435</td>\n",
       "      <td>08</td>\n",
       "    </tr>\n",
       "    <tr>\n",
       "      <th>1</th>\n",
       "      <td>Element</td>\n",
       "      <td>1122</td>\n",
       "      <td>665</td>\n",
       "      <td>1444</td>\n",
       "      <td>11</td>\n",
       "    </tr>\n",
       "    <tr>\n",
       "      <th>2</th>\n",
       "      <td>Element</td>\n",
       "      <td>1804</td>\n",
       "      <td>564</td>\n",
       "      <td>1639</td>\n",
       "      <td>18</td>\n",
       "    </tr>\n",
       "    <tr>\n",
       "      <th>3</th>\n",
       "      <td>Element</td>\n",
       "      <td>1822</td>\n",
       "      <td>665</td>\n",
       "      <td>1578</td>\n",
       "      <td>18</td>\n",
       "    </tr>\n",
       "  </tbody>\n",
       "</table>\n",
       "</div>"
      ],
      "text/plain": [
       "      name  unit sqft price level\n",
       "0  Element  0804  579  1435    08\n",
       "1  Element  1122  665  1444    11\n",
       "2  Element  1804  564  1639    18\n",
       "3  Element  1822  665  1578    18"
      ]
     },
     "execution_count": 337,
     "metadata": {},
     "output_type": "execute_result"
    }
   ],
   "source": [
    "df"
   ]
  },
  {
   "cell_type": "code",
   "execution_count": null,
   "metadata": {},
   "outputs": [],
   "source": [
    "1 Bedroom, 1 Bath\n",
    "1 Bedroom, 2 Bath\n",
    "2 Bedroom, 2 Bath\n",
    "3 Bedroom, 2 Bath\n",
    "3 Bedroom, 3 Bath"
   ]
  },
  {
   "cell_type": "markdown",
   "metadata": {},
   "source": [
    "## 1 Bedrooms..."
   ]
  },
  {
   "cell_type": "code",
   "execution_count": 341,
   "metadata": {
    "collapsed": true
   },
   "outputs": [],
   "source": [
    "driver = webdriver.Chrome('/Users/ronaldholt/Downloads/chromedriver')\n",
    "driver.get(base_url)\n",
    "\n",
    "#close_login = driver.find_element_by_class_name(\"input-container\")\n",
    "select = Select(driver.find_element_by_id('type'))\n",
    "select.select_by_value('1 Bedroom, 1 Bath')\n",
    "## the button to click on \"Search\" \n",
    "click_search = driver.find_element_by_class_name(\"button\")\n",
    "click_search.click()"
   ]
  },
  {
   "cell_type": "code",
   "execution_count": 342,
   "metadata": {},
   "outputs": [],
   "source": [
    "html = driver.page_source\n",
    "soup = BeautifulSoup(html, 'html.parser')\n",
    "\n",
    "#Found location in JS for data...\n",
    "contents = soup.find_all('div', {'class' : 'unit-floating-title'})\n",
    "#for i in contents:\n",
    "    #print i.text"
   ]
  },
  {
   "cell_type": "code",
   "execution_count": 343,
   "metadata": {},
   "outputs": [],
   "source": [
    "import re\n",
    "\n",
    "df_1b1b = []\n",
    "\n",
    "for i in soup.find_all('div', {'class' : 'unit-floating-title'}):\n",
    "    a = re.split(' |Bedroom 1 Bathroom|\\$|/m|', i.text)\n",
    "    #b = re.split('Studio|\\$|/m|,\" \"', i.text)\n",
    "    #print a\n",
    "    unit = a[0]\n",
    "    sqft = a[4]\n",
    "    price = a[8]\n",
    "    level = a[7]\n",
    "    name = \"Element\"\n",
    "    \n",
    "    df_1b1b.append([name, unit, sqft, price, level])\n",
    "    \n",
    "df_1b1b = pd.DataFrame(df_1b1b, columns=['name','unit', 'sqft', 'price', 'level' ])  "
   ]
  },
  {
   "cell_type": "code",
   "execution_count": 344,
   "metadata": {},
   "outputs": [
    {
     "data": {
      "text/html": [
       "<div>\n",
       "<style>\n",
       "    .dataframe thead tr:only-child th {\n",
       "        text-align: right;\n",
       "    }\n",
       "\n",
       "    .dataframe thead th {\n",
       "        text-align: left;\n",
       "    }\n",
       "\n",
       "    .dataframe tbody tr th {\n",
       "        vertical-align: top;\n",
       "    }\n",
       "</style>\n",
       "<table border=\"1\" class=\"dataframe\">\n",
       "  <thead>\n",
       "    <tr style=\"text-align: right;\">\n",
       "      <th></th>\n",
       "      <th>name</th>\n",
       "      <th>unit</th>\n",
       "      <th>sqft</th>\n",
       "      <th>price</th>\n",
       "      <th>level</th>\n",
       "    </tr>\n",
       "  </thead>\n",
       "  <tbody>\n",
       "    <tr>\n",
       "      <th>0</th>\n",
       "      <td>Element</td>\n",
       "      <td>02061</td>\n",
       "      <td>792</td>\n",
       "      <td>1500</td>\n",
       "      <td>02</td>\n",
       "    </tr>\n",
       "    <tr>\n",
       "      <th>1</th>\n",
       "      <td>Element</td>\n",
       "      <td>02241</td>\n",
       "      <td>890</td>\n",
       "      <td>1700</td>\n",
       "      <td>02</td>\n",
       "    </tr>\n",
       "    <tr>\n",
       "      <th>2</th>\n",
       "      <td>Element</td>\n",
       "      <td>03061</td>\n",
       "      <td>792</td>\n",
       "      <td>1525</td>\n",
       "      <td>03</td>\n",
       "    </tr>\n",
       "    <tr>\n",
       "      <th>3</th>\n",
       "      <td>Element</td>\n",
       "      <td>03151</td>\n",
       "      <td>767</td>\n",
       "      <td>1475</td>\n",
       "      <td>03</td>\n",
       "    </tr>\n",
       "    <tr>\n",
       "      <th>4</th>\n",
       "      <td>Element</td>\n",
       "      <td>03241</td>\n",
       "      <td>890</td>\n",
       "      <td>1737</td>\n",
       "      <td>03</td>\n",
       "    </tr>\n",
       "  </tbody>\n",
       "</table>\n",
       "</div>"
      ],
      "text/plain": [
       "      name   unit sqft price level\n",
       "0  Element  02061  792  1500    02\n",
       "1  Element  02241  890  1700    02\n",
       "2  Element  03061  792  1525    03\n",
       "3  Element  03151  767  1475    03\n",
       "4  Element  03241  890  1737    03"
      ]
     },
     "execution_count": 344,
     "metadata": {},
     "output_type": "execute_result"
    }
   ],
   "source": [
    "df_1b1b.head()"
   ]
  },
  {
   "cell_type": "markdown",
   "metadata": {},
   "source": [
    "## 1 bedroom 2 bath"
   ]
  },
  {
   "cell_type": "code",
   "execution_count": 375,
   "metadata": {
    "collapsed": true
   },
   "outputs": [],
   "source": [
    "driver = webdriver.Chrome('/Users/ronaldholt/Downloads/chromedriver')\n",
    "driver.get(base_url)\n",
    "\n",
    "#close_login = driver.find_element_by_class_name(\"input-container\")\n",
    "select = Select(driver.find_element_by_id('type'))\n",
    "select.select_by_value('1 Bedroom, 2 Bath')\n",
    "## the button to click on \"Search\" \n",
    "click_search = driver.find_element_by_class_name(\"button\")\n",
    "click_search.click()"
   ]
  },
  {
   "cell_type": "code",
   "execution_count": 376,
   "metadata": {},
   "outputs": [
    {
     "name": "stdout",
     "output_type": "stream",
     "text": [
      "[u'0412', u'', u'', u'', u'-', u'1065', u'Sq', u'FtLevel', u'04', u'2240', u'onthAvailable', u'Now']\n",
      "[u'0612', u'', u'', u'', u'-', u'1065', u'Sq', u'FtLevel', u'06', u'2266', u'onthAvailable', u'Now']\n",
      "[u'08122', u'Bedroom', u'', u'', u'-', u'1065', u'Sq', u'FtLevel', u'08', u'2569', u'onthAvailable', u'Now']\n",
      "[u'11122', u'Bedroom', u'', u'', u'-', u'1065', u'Sq', u'FtLevel', u'11', u'2389', u'onthAvailable', u'Now']\n",
      "[u'12122', u'Bedroom', u'', u'', u'-', u'1065', u'Sq', u'FtLevel', u'12', u'2325', u'onthAvailable', u'Now']\n"
     ]
    }
   ],
   "source": [
    "html = driver.page_source\n",
    "soup = BeautifulSoup(html, 'html.parser')\n",
    "\n",
    "#Found location in JS for data...\n",
    "contents = soup.find_all('div', {'class' : 'unit-floating-title'})\n",
    "#for i in contents:\n",
    "    #print i.text\n",
    "import re\n",
    "\n",
    "#df_1b2b = []\n",
    "df_1b2b = []\n",
    "for i in soup.find_all('div', {'class' : 'unit-floating-title'}):\n",
    "    a = re.split(' |1 Bedroom|2 Bathroom|\\$|/m|', i.text)\n",
    "    #b = re.split('Studio|\\$|/m|,\" \"', i.text)\n",
    "    print a\n",
    "    unit = a[0]\n",
    "    sqft = a[5]\n",
    "    price = a[9]\n",
    "    level = a[8]\n",
    "    name = \"Element\"\n",
    "    \n",
    "    #df_1b2b.append([name, unit, sqft, price, level])\n",
    "    df_1b2b.append([name, unit, sqft, price, level])\n",
    "    \n",
    "#df_1b2b = pd.DataFrame(df_1b2b, columns=['name','unit', 'sqft', 'price', 'level' ]) \n",
    "df_1b2b = pd.DataFrame(df_1b2b, columns=['name','unit', 'sqft', 'price', 'level' ]) "
   ]
  },
  {
   "cell_type": "code",
   "execution_count": 377,
   "metadata": {},
   "outputs": [
    {
     "data": {
      "text/html": [
       "<div>\n",
       "<style>\n",
       "    .dataframe thead tr:only-child th {\n",
       "        text-align: right;\n",
       "    }\n",
       "\n",
       "    .dataframe thead th {\n",
       "        text-align: left;\n",
       "    }\n",
       "\n",
       "    .dataframe tbody tr th {\n",
       "        vertical-align: top;\n",
       "    }\n",
       "</style>\n",
       "<table border=\"1\" class=\"dataframe\">\n",
       "  <thead>\n",
       "    <tr style=\"text-align: right;\">\n",
       "      <th></th>\n",
       "      <th>name</th>\n",
       "      <th>unit</th>\n",
       "      <th>sqft</th>\n",
       "      <th>price</th>\n",
       "      <th>level</th>\n",
       "    </tr>\n",
       "  </thead>\n",
       "  <tbody>\n",
       "    <tr>\n",
       "      <th>0</th>\n",
       "      <td>Element</td>\n",
       "      <td>0412</td>\n",
       "      <td>1065</td>\n",
       "      <td>2240</td>\n",
       "      <td>04</td>\n",
       "    </tr>\n",
       "    <tr>\n",
       "      <th>1</th>\n",
       "      <td>Element</td>\n",
       "      <td>0612</td>\n",
       "      <td>1065</td>\n",
       "      <td>2266</td>\n",
       "      <td>06</td>\n",
       "    </tr>\n",
       "    <tr>\n",
       "      <th>2</th>\n",
       "      <td>Element</td>\n",
       "      <td>08122</td>\n",
       "      <td>1065</td>\n",
       "      <td>2569</td>\n",
       "      <td>08</td>\n",
       "    </tr>\n",
       "    <tr>\n",
       "      <th>3</th>\n",
       "      <td>Element</td>\n",
       "      <td>11122</td>\n",
       "      <td>1065</td>\n",
       "      <td>2389</td>\n",
       "      <td>11</td>\n",
       "    </tr>\n",
       "    <tr>\n",
       "      <th>4</th>\n",
       "      <td>Element</td>\n",
       "      <td>12122</td>\n",
       "      <td>1065</td>\n",
       "      <td>2325</td>\n",
       "      <td>12</td>\n",
       "    </tr>\n",
       "  </tbody>\n",
       "</table>\n",
       "</div>"
      ],
      "text/plain": [
       "      name   unit  sqft price level\n",
       "0  Element   0412  1065  2240    04\n",
       "1  Element   0612  1065  2266    06\n",
       "2  Element  08122  1065  2569    08\n",
       "3  Element  11122  1065  2389    11\n",
       "4  Element  12122  1065  2325    12"
      ]
     },
     "execution_count": 377,
     "metadata": {},
     "output_type": "execute_result"
    }
   ],
   "source": [
    "df_1b2b.head()"
   ]
  },
  {
   "cell_type": "markdown",
   "metadata": {},
   "source": [
    "## 2 bed 2 bath"
   ]
  },
  {
   "cell_type": "code",
   "execution_count": 374,
   "metadata": {},
   "outputs": [
    {
     "data": {
      "text/html": [
       "<div>\n",
       "<style>\n",
       "    .dataframe thead tr:only-child th {\n",
       "        text-align: right;\n",
       "    }\n",
       "\n",
       "    .dataframe thead th {\n",
       "        text-align: left;\n",
       "    }\n",
       "\n",
       "    .dataframe tbody tr th {\n",
       "        vertical-align: top;\n",
       "    }\n",
       "</style>\n",
       "<table border=\"1\" class=\"dataframe\">\n",
       "  <thead>\n",
       "    <tr style=\"text-align: right;\">\n",
       "      <th></th>\n",
       "      <th>name</th>\n",
       "      <th>unit</th>\n",
       "      <th>sqft</th>\n",
       "      <th>price</th>\n",
       "      <th>level</th>\n",
       "    </tr>\n",
       "  </thead>\n",
       "  <tbody>\n",
       "    <tr>\n",
       "      <th>0</th>\n",
       "      <td>Element</td>\n",
       "      <td>1903</td>\n",
       "      <td>2176</td>\n",
       "      <td>6764</td>\n",
       "      <td>19</td>\n",
       "    </tr>\n",
       "    <tr>\n",
       "      <th>1</th>\n",
       "      <td>Element</td>\n",
       "      <td>1914</td>\n",
       "      <td>3222</td>\n",
       "      <td>11492</td>\n",
       "      <td>19</td>\n",
       "    </tr>\n",
       "  </tbody>\n",
       "</table>\n",
       "</div>"
      ],
      "text/plain": [
       "      name  unit  sqft  price level\n",
       "0  Element  1903  2176   6764    19\n",
       "1  Element  1914  3222  11492    19"
      ]
     },
     "execution_count": 374,
     "metadata": {},
     "output_type": "execute_result"
    }
   ],
   "source": [
    "df.head()\n",
    "df_1b1b.head()\n",
    "df_2b2b.head()\n",
    "df_3b2b.head()\n",
    "df_3b3b.head()"
   ]
  },
  {
   "cell_type": "code",
   "execution_count": 378,
   "metadata": {},
   "outputs": [
    {
     "data": {
      "text/plain": [
       "u'/Users/ronaldholt/Git/Rent_in_Nashville'"
      ]
     },
     "execution_count": 378,
     "metadata": {},
     "output_type": "execute_result"
    }
   ],
   "source": [
    "%pwd"
   ]
  },
  {
   "cell_type": "code",
   "execution_count": 379,
   "metadata": {
    "collapsed": true
   },
   "outputs": [],
   "source": [
    "mkdir data"
   ]
  },
  {
   "cell_type": "code",
   "execution_count": 380,
   "metadata": {},
   "outputs": [
    {
     "name": "stdout",
     "output_type": "stream",
     "text": [
      "/Users/ronaldholt/Git/Rent_in_Nashville/data\n"
     ]
    }
   ],
   "source": [
    "cd data/"
   ]
  },
  {
   "cell_type": "code",
   "execution_count": 381,
   "metadata": {},
   "outputs": [
    {
     "data": {
      "text/plain": [
       "u'/Users/ronaldholt/Git/Rent_in_Nashville/data'"
      ]
     },
     "execution_count": 381,
     "metadata": {},
     "output_type": "execute_result"
    }
   ],
   "source": [
    "%pwd"
   ]
  },
  {
   "cell_type": "code",
   "execution_count": 385,
   "metadata": {},
   "outputs": [],
   "source": [
    "x = pd.concat([df, df_1b1b, df_1b2b, df_2b2b, df_3b2b, df_3b3b])"
   ]
  },
  {
   "cell_type": "code",
   "execution_count": 386,
   "metadata": {},
   "outputs": [],
   "source": [
    "x.to_csv('element.csv')"
   ]
  },
  {
   "cell_type": "code",
   "execution_count": null,
   "metadata": {
    "collapsed": true
   },
   "outputs": [],
   "source": []
  }
 ],
 "metadata": {
  "kernelspec": {
   "display_name": "Python 2",
   "language": "python",
   "name": "python2"
  },
  "language_info": {
   "codemirror_mode": {
    "name": "ipython",
    "version": 2
   },
   "file_extension": ".py",
   "mimetype": "text/x-python",
   "name": "python",
   "nbconvert_exporter": "python",
   "pygments_lexer": "ipython2",
   "version": "2.7.14"
  }
 },
 "nbformat": 4,
 "nbformat_minor": 2
}
